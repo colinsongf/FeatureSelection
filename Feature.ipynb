{
 "metadata": {
  "name": "",
  "signature": "sha256:924fd09e03e2f149235afc8f5164e45de2042c09235d2e785625db2416476854"
 },
 "nbformat": 3,
 "nbformat_minor": 0,
 "worksheets": [
  {
   "cells": [
    {
     "cell_type": "code",
     "collapsed": false,
     "input": [
      "import os,sys,time\n",
      "import numpy as np\n",
      "import pandas as pd\n",
      "import matplotlib.pyplot as plt\n",
      "import inspect\n",
      "import featureFunction\n"
     ],
     "language": "python",
     "metadata": {},
     "outputs": [],
     "prompt_number": 2
    },
    {
     "cell_type": "code",
     "collapsed": false,
     "input": [
      "class FeatureSpace:\n",
      "    \n",
      "    def __init__(self, category=None, featureList=None, **kwargs):\n",
      "        self.featureFunc = []\n",
      "\n",
      "        if category is not None:\n",
      "            self.category = category\n",
      "            self.featureList=[]\n",
      "            if self.category == 'all':\n",
      "                for name, obj in inspect.getmembers(featureFunction):\n",
      "                    if inspect.isclass(obj) and name!='Base':\n",
      "                        self.featureList.append(name)\n",
      "\n",
      "            else:\n",
      "                for name, obj in inspect.getmembers(featureFunction):\n",
      "                    if inspect.isclass(obj) and name!='Base':\n",
      "                        if obj().category in self.category:\n",
      "                            self.featureList.append(name)\n",
      "                            \n",
      "        else:\n",
      "            self.featureList= featureList\n",
      "            \n",
      "        self.featureFunc = []\n",
      "        m = featureFunction\n",
      "        \n",
      "        for item in self.featureList:\n",
      "            if item in kwargs.keys():\n",
      "                a = getattr(m, item)( kwargs[item])\n",
      "            else:\n",
      "                a = getattr(m, item)()\n",
      "            self.featureFunc.append(a.fit)\n",
      "\n",
      "\n",
      "            \n",
      "\n",
      "        \n",
      "    def calculateFeature(self, data):\n",
      "        self._X = np.asarray(data)\n",
      "        self.__result = []\n",
      "        for f in self.featureFunc:\n",
      "            self.__result.append(f(self._X))\n",
      "        return self\n",
      "    \n",
      "    def result(self, method = 'array'):\n",
      "        if method == 'array':\n",
      "            return np.asarray(self.__result)\n",
      "        elif method == 'dict':\n",
      "            return dict(zip(a.featureList,self.__result))\n",
      "        else:\n",
      "            return self.__result\n"
     ],
     "language": "python",
     "metadata": {},
     "outputs": [],
     "prompt_number": 3
    },
    {
     "cell_type": "code",
     "collapsed": false,
     "input": [
      "a = FeatureSpace(category='all', automean=[0,0])\n",
      "print a.featureList\n",
      "a=a.calculateFeature(data)\n",
      "a.result(method='')"
     ],
     "language": "python",
     "metadata": {},
     "outputs": [
      {
       "output_type": "stream",
       "stream": "stdout",
       "text": [
        "['Rcs', 'StestonK', 'autocor', 'automean']\n"
       ]
      },
      {
       "metadata": {},
       "output_type": "pyout",
       "prompt_number": 5,
       "text": [
        "[0.014877881600657519, 0.86601014697678469, -1199325335, 4999.4854116699998]"
       ]
      }
     ],
     "prompt_number": 5
    },
    {
     "cell_type": "code",
     "collapsed": false,
     "input": [
      "a.result(method='dict')"
     ],
     "language": "python",
     "metadata": {},
     "outputs": [
      {
       "metadata": {},
       "output_type": "pyout",
       "prompt_number": 9,
       "text": [
        "{'Rcs': 1.4890915990744267,\n",
        " 'StestonK': 0.86606360701497498,\n",
        " 'autocor': 1335959382,\n",
        " 'automean': 5000.6898300000003}"
       ]
      }
     ],
     "prompt_number": 9
    },
    {
     "cell_type": "code",
     "collapsed": false,
     "input": [
      "a = FeatureSpace(featureList=['Rcs', 'StestonK'], automean=10)\n",
      "print a.featureList\n",
      "a=a.calculateFeature(data)\n",
      "a.result(method='')"
     ],
     "language": "python",
     "metadata": {},
     "outputs": [
      {
       "output_type": "stream",
       "stream": "stdout",
       "text": [
        "['Rcs', 'StestonK']\n"
       ]
      },
      {
       "metadata": {},
       "output_type": "pyout",
       "prompt_number": 7,
       "text": [
        "[0.014877881600657519, 0.86601014697678469]"
       ]
      }
     ],
     "prompt_number": 7
    },
    {
     "cell_type": "code",
     "collapsed": false,
     "input": [
      "%%time\n",
      "a.calculateFeature(data)"
     ],
     "language": "python",
     "metadata": {},
     "outputs": [
      {
       "output_type": "stream",
       "stream": "stdout",
       "text": [
        "Wall time: 5.22 s\n"
       ]
      },
      {
       "metadata": {},
       "output_type": "pyout",
       "prompt_number": 8,
       "text": [
        "<__main__.FeatureSpace instance at 0x000000000AAAED48>"
       ]
      }
     ],
     "prompt_number": 8
    },
    {
     "cell_type": "code",
     "collapsed": false,
     "input": [],
     "language": "python",
     "metadata": {},
     "outputs": []
    },
    {
     "cell_type": "code",
     "collapsed": false,
     "input": [],
     "language": "python",
     "metadata": {},
     "outputs": []
    },
    {
     "cell_type": "code",
     "collapsed": false,
     "input": [
      "reload(featureFunction)\n",
      "import featureFunction\n"
     ],
     "language": "python",
     "metadata": {},
     "outputs": [],
     "prompt_number": 16
    },
    {
     "cell_type": "code",
     "collapsed": false,
     "input": [],
     "language": "python",
     "metadata": {},
     "outputs": []
    },
    {
     "cell_type": "code",
     "collapsed": false,
     "input": [
      "%%time\n",
      "data = np.random.randint(0,10000, 100000000)\n"
     ],
     "language": "python",
     "metadata": {},
     "outputs": [
      {
       "output_type": "stream",
       "stream": "stdout",
       "text": [
        "Wall time: 1.51 s\n"
       ]
      }
     ],
     "prompt_number": 9
    },
    {
     "cell_type": "code",
     "collapsed": false,
     "input": [
      "\n",
      "N = len(data)\n",
      "sigmap = np.sqrt(N*1.0/(N-1)) * (data-np.mean(data))/np.std(data)\n",
      "\n",
      "K = 1/np.sqrt(N*1.0) * np.sum(np.abs(sigmap)) / np.sqrt(np.sum(sigmap**2))\n"
     ],
     "language": "python",
     "metadata": {},
     "outputs": [
      {
       "metadata": {},
       "output_type": "pyout",
       "prompt_number": 15,
       "text": [
        "0.88191710368819676"
       ]
      }
     ],
     "prompt_number": 15
    },
    {
     "cell_type": "code",
     "collapsed": false,
     "input": [],
     "language": "python",
     "metadata": {},
     "outputs": []
    }
   ],
   "metadata": {}
  }
 ]
}
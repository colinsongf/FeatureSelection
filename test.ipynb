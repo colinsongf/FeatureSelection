{
 "metadata": {
  "name": "",
  "signature": "sha256:0aa70aa0950f3302f1e07ca71a45bc95fe02684a8ce7fcd130d307788b51411e"
 },
 "nbformat": 3,
 "nbformat_minor": 0,
 "worksheets": [
  {
   "cells": [
    {
     "cell_type": "code",
     "collapsed": false,
     "input": [
      "from Feature import FeatureSpace\n",
      "import numpy as np\n"
     ],
     "language": "python",
     "metadata": {},
     "outputs": [],
     "prompt_number": 1
    },
    {
     "cell_type": "code",
     "collapsed": false,
     "input": [
      "def LeerLC_MACHO(fid):\n",
      "    saltos_linea = 3\n",
      "    delimiter = ' '\n",
      "    for i in range(0,saltos_linea):\n",
      "        fid.next()\n",
      "    LC = []\n",
      "    for lines in fid:\n",
      "        str_line = lines.strip().split()\n",
      "        floats = map(float, str_line)\n",
      "        #numbers = (number for number in str_line.split())\n",
      "        LC.append(floats)\n",
      "    LC = np.asarray(LC)\n",
      "    return LC"
     ],
     "language": "python",
     "metadata": {},
     "outputs": [],
     "prompt_number": 2
    },
    {
     "cell_type": "markdown",
     "metadata": {},
     "source": [
      "##Get the data##"
     ]
    },
    {
     "cell_type": "code",
     "collapsed": false,
     "input": [
      "fid=open('lc_1.4418.1930.R.mjd','r')"
     ],
     "language": "python",
     "metadata": {},
     "outputs": [],
     "prompt_number": 3
    },
    {
     "cell_type": "code",
     "collapsed": false,
     "input": [
      "lc = LeerLC_MACHO(fid)"
     ],
     "language": "python",
     "metadata": {},
     "outputs": [],
     "prompt_number": 4
    },
    {
     "cell_type": "code",
     "collapsed": false,
     "input": [
      "data  = lc[:,1]"
     ],
     "language": "python",
     "metadata": {},
     "outputs": [],
     "prompt_number": 5
    },
    {
     "cell_type": "markdown",
     "metadata": {},
     "source": [
      "##Get the Feature##"
     ]
    },
    {
     "cell_type": "code",
     "collapsed": false,
     "input": [
      "a = FeatureSpace(category='all',featureList=None, automean=[0,0], StetsonL=data ,  B_R=data)\n",
      "print a.featureList\n",
      "a=a.calculateFeature(data)\n",
      "print a.result(method='')\n",
      "print a.result(method='dict')"
     ],
     "language": "python",
     "metadata": {},
     "outputs": [
      {
       "output_type": "stream",
       "stream": "stdout",
       "text": [
        "['B_R', 'Con', 'Rcs', 'StestonK', 'StetsonL', 'VariabilityIndex', 'autocor', 'automean', 'meanvariance']\n",
        "[0.0, 0.0, 13.452604657510831, 0.68190604212866845, 0.27733157067841124, 1.5418652248325386, 10403.747928999999, -4.5354373757455289, -0.074184019480344726]\n",
        "{'automean': -4.5354373757455289, 'meanvariance': -0.074184019480344726, 'StetsonL': 0.27733157067841124, 'StestonK': 0.68190604212866845, 'VariabilityIndex': 1.5418652248325386, 'B_R': 0.0, 'Rcs': 13.452604657510831, 'autocor': 10403.747928999999, 'Con': 0.0}\n"
       ]
      }
     ],
     "prompt_number": 6
    },
    {
     "cell_type": "markdown",
     "metadata": {},
     "source": [
      "## Unit testing ##\n",
      "\n",
      "** StestonK should be around 0.798 for normal distribution **\n"
     ]
    },
    {
     "cell_type": "code",
     "collapsed": false,
     "input": [
      "data2 = np.random.normal(size=1000000)\n",
      "a = FeatureSpace(featureList=['StestonK' ] )\n",
      "a=a.calculateFeature(data2)\n",
      "print a.result(method='dict')"
     ],
     "language": "python",
     "metadata": {},
     "outputs": [
      {
       "output_type": "stream",
       "stream": "stdout",
       "text": [
        "{'StestonK': 0.79745095757451667}\n"
       ]
      }
     ],
     "prompt_number": 7
    },
    {
     "cell_type": "markdown",
     "metadata": {},
     "source": [
      "** Con with parameter 1 (1 consecutive star out of 2 sigma) should be 0.05 for normal distribution **"
     ]
    },
    {
     "cell_type": "code",
     "collapsed": false,
     "input": [
      "a = FeatureSpace(featureList=['Con' ], Con=1 )\n",
      "a=a.calculateFeature(data2)\n",
      "print a.result(method='dict')"
     ],
     "language": "python",
     "metadata": {},
     "outputs": [
      {
       "output_type": "stream",
       "stream": "stdout",
       "text": [
        "{'Con': 0.045581}\n"
       ]
      }
     ],
     "prompt_number": 8
    },
    {
     "cell_type": "markdown",
     "metadata": {},
     "source": [
      "**Variability Index should be 2 for normal distribution **"
     ]
    },
    {
     "cell_type": "code",
     "collapsed": false,
     "input": [
      "a = FeatureSpace(featureList=['VariabilityIndex' ] )\n",
      "a=a.calculateFeature(data2)\n",
      "print a.result(method='dict')"
     ],
     "language": "python",
     "metadata": {},
     "outputs": [
      {
       "output_type": "stream",
       "stream": "stdout",
       "text": [
        "{'VariabilityIndex': 1.9988425253178075}\n"
       ]
      }
     ],
     "prompt_number": 9
    },
    {
     "cell_type": "markdown",
     "metadata": {},
     "source": [
      "**B_R should be 0**"
     ]
    },
    {
     "cell_type": "code",
     "collapsed": false,
     "input": [
      "a = FeatureSpace(featureList=['B_R' ], B_R=data2 )\n",
      "a=a.calculateFeature(data2)\n",
      "print a.result(method='dict')"
     ],
     "language": "python",
     "metadata": {},
     "outputs": [
      {
       "output_type": "stream",
       "stream": "stdout",
       "text": [
        "{'B_R': 0.0}\n"
       ]
      }
     ],
     "prompt_number": 10
    },
    {
     "cell_type": "markdown",
     "metadata": {},
     "source": [
      "**mean variabce should be large**"
     ]
    },
    {
     "cell_type": "code",
     "collapsed": false,
     "input": [
      "a = FeatureSpace(featureList=['meanvariance' ] )\n",
      "a=a.calculateFeature(data2)\n",
      "print a.result(method='dict')"
     ],
     "language": "python",
     "metadata": {},
     "outputs": [
      {
       "output_type": "stream",
       "stream": "stdout",
       "text": [
        "{'meanvariance': 1253.608981957482}\n"
       ]
      }
     ],
     "prompt_number": 15
    },
    {
     "cell_type": "markdown",
     "metadata": {},
     "source": [
      "**RCs**"
     ]
    },
    {
     "cell_type": "code",
     "collapsed": false,
     "input": [
      "a = FeatureSpace(featureList=['Rcs' ] )\n",
      "a=a.calculateFeature(data2)\n",
      "print a.result(method='dict')\n",
      "\n",
      "data3 = np.random.normal(loc=0,scale=1, size=1000000)\n",
      "for i in xrange(1,1000000):\n",
      "    data3[i] =  0.95 * data3[i-1] + np.random.normal()\n",
      "    \n",
      "a=a.calculateFeature(data3)\n",
      "print a.result(method='dict')\n"
     ],
     "language": "python",
     "metadata": {},
     "outputs": [
      {
       "output_type": "stream",
       "stream": "stdout",
       "text": [
        "{'Rcs': 0.001584375536266541}\n",
        "{'Rcs': 0.0090288028898179058}"
       ]
      },
      {
       "output_type": "stream",
       "stream": "stdout",
       "text": [
        "\n"
       ]
      }
     ],
     "prompt_number": 59
    },
    {
     "cell_type": "code",
     "collapsed": false,
     "input": [],
     "language": "python",
     "metadata": {},
     "outputs": [],
     "prompt_number": 56
    },
    {
     "cell_type": "code",
     "collapsed": false,
     "input": [],
     "language": "python",
     "metadata": {},
     "outputs": []
    }
   ],
   "metadata": {}
  }
 ]
}
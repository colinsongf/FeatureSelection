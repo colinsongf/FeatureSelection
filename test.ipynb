{
 "metadata": {
  "name": "",
  "signature": "sha256:5228624e744d4bf91852d82de0a0fc213412181a6ac006120822e921d575bc8e"
 },
 "nbformat": 3,
 "nbformat_minor": 0,
 "worksheets": [
  {
   "cells": [
    {
     "cell_type": "code",
     "collapsed": false,
     "input": [
      "from Feature import FeatureSpace\n",
      "import numpy as np\n"
     ],
     "language": "python",
     "metadata": {},
     "outputs": [],
     "prompt_number": 1
    },
    {
     "cell_type": "code",
     "collapsed": false,
     "input": [
      "data = np.random.randint(0,10000, 100000000)\n",
      "a = FeatureSpace(category='all', automean=[0,0])\n",
      "print a.featureList\n",
      "a=a.calculateFeature(data)\n",
      "print a.result(method='')\n",
      "print a.result(method='dict')"
     ],
     "language": "python",
     "metadata": {},
     "outputs": [
      {
       "output_type": "stream",
       "stream": "stdout",
       "text": [
        "['Rcs', 'StestonK', 'autocor', 'automean']\n"
       ]
      },
      {
       "metadata": {},
       "output_type": "pyout",
       "prompt_number": 2,
       "text": [
        "[0.014878751369921457, 0.86601505039658377, -140176515, 4999.7900599100003]"
       ]
      }
     ],
     "prompt_number": 2
    },
    {
     "cell_type": "code",
     "collapsed": false,
     "input": [],
     "language": "python",
     "metadata": {},
     "outputs": [],
     "prompt_number": 3
    },
    {
     "cell_type": "code",
     "collapsed": false,
     "input": [],
     "language": "python",
     "metadata": {},
     "outputs": []
    }
   ],
   "metadata": {}
  }
 ]
}